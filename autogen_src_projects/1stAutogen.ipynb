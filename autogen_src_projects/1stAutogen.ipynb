{
 "cells": [
  {
   "cell_type": "code",
   "execution_count": 1,
   "id": "1bf9a341",
   "metadata": {},
   "outputs": [
    {
     "data": {
      "text/plain": [
       "2"
      ]
     },
     "execution_count": 1,
     "metadata": {},
     "output_type": "execute_result"
    }
   ],
   "source": [
    "1+1"
   ]
  },
  {
   "cell_type": "code",
   "execution_count": 17,
   "id": "4385bc3c",
   "metadata": {},
   "outputs": [],
   "source": [
    "from autogen_agentchat.agents import AssistantAgent\n",
    "from autogen_ext.models.openai import OpenAIChatCompletionClient\n",
    "from dotenv import load_dotenv\n",
    "import os\n",
    "\n",
    "load_dotenv()\n",
    "api_key=os.getenv(\"OPENAI_API_KEY\")"
   ]
  },
  {
   "cell_type": "code",
   "execution_count": 19,
   "id": "3e8cf3bf",
   "metadata": {},
   "outputs": [],
   "source": [
    "model_client = OpenAIChatCompletionClient(model=\"gpt-4o\", api_key=api_key)"
   ]
  },
  {
   "cell_type": "code",
   "execution_count": 22,
   "id": "36029c99",
   "metadata": {},
   "outputs": [
    {
     "name": "stdout",
     "output_type": "stream",
     "text": [
      "[TextMessage(source='user', models_usage=None, metadata={}, created_at=datetime.datetime(2025, 7, 3, 1, 2, 29, 270680, tzinfo=datetime.timezone.utc), content='What is the capital of delhi?', type='TextMessage'), TextMessage(source='myAssistant', models_usage=RequestUsage(prompt_tokens=44, completion_tokens=24), metadata={}, created_at=datetime.datetime(2025, 7, 3, 1, 2, 30, 882283, tzinfo=datetime.timezone.utc), content='The capital of Delhi, which is a Union Territory and also a prominent city in India, is New Delhi. TERMINATE', type='TextMessage')]\n"
     ]
    }
   ],
   "source": [
    "assitant = AssistantAgent(name=\"myAssistant\", model_client=model_client)\n",
    "result = await assitant.run(task=\"What is the capital of delhi?\")\n",
    "print(result.messages)"
   ]
  },
  {
   "cell_type": "code",
   "execution_count": 23,
   "id": "ad751c7e",
   "metadata": {},
   "outputs": [
    {
     "name": "stdout",
     "output_type": "stream",
     "text": [
      "The capital of Delhi, which is a Union Territory and also a prominent city in India, is New Delhi. TERMINATE\n"
     ]
    }
   ],
   "source": [
    "print(result.messages[-1].content)  # Print the content of the last message"
   ]
  },
  {
   "cell_type": "code",
   "execution_count": 13,
   "id": "51d433f7",
   "metadata": {},
   "outputs": [
    {
     "name": "stdout",
     "output_type": "stream",
     "text": [
      "5 + 25 = 30. TERMINATE\n"
     ]
    }
   ],
   "source": [
    "result = await assitant.run(task=\"tell me 5+25\")\n",
    "print(result.messages[-1].content)  # Print the content of the last message"
   ]
  },
  {
   "cell_type": "code",
   "execution_count": 24,
   "id": "348a4aa9",
   "metadata": {},
   "outputs": [
    {
     "name": "stdout",
     "output_type": "stream",
     "text": [
      "The first president of the United States was George Washington. He served from April 30, 1789, to March 4, 1797. Washington is often referred to as the \"Father of His Country\" for his pivotal role in leading the nation during its formative years, both as the commander-in-chief of the Continental Army during the American Revolutionary War and as the first president following the ratification of the U.S. Constitution.\n"
     ]
    }
   ],
   "source": [
    "#61\n",
    "from autogen_agentchat.agents import AssistantAgent\n",
    "from autogen_ext.models.openai import OpenAIChatCompletionClient\n",
    "from dotenv import load_dotenv\n",
    "import os   \n",
    "\n",
    "load_dotenv()\n",
    "api_key=os.getenv(\"OPENAI_API_KEY\")\n",
    "model_client = OpenAIChatCompletionClient(model=\"gpt-4o\", api_key=api_key)\n",
    "\n",
    "assitant = AssistantAgent(\n",
    "    name=\"HISTROY_EXPERT\",\n",
    "    model_client=model_client,\n",
    "    description=\"I am a history expert, I can answer questions about history.\",\n",
    "    system_message=\"You are a history expert. You can answer questions about historical events, figures, and timelines.\"\n",
    "    )    \n",
    "\n",
    "\n",
    "async def history_expert():\n",
    "    result = await assitant.run(task=\"What is the First  president of USA?\")\n",
    "    print(result.messages[-1].content)  # Print the content of the last message\n",
    "\n",
    "await history_expert()\n"
   ]
  },
  {
   "cell_type": "code",
   "execution_count": 25,
   "id": "082b2e96",
   "metadata": {},
   "outputs": [
    {
     "name": "stdout",
     "output_type": "stream",
     "text": [
      "The weather in New York is sunny with a high of 25°C.\n"
     ]
    }
   ],
   "source": [
    "#62 Tools\n",
    " \n",
    "from autogen_agentchat.agents import AssistantAgent\n",
    "from autogen_ext.models.openai import OpenAIChatCompletionClient\n",
    "from dotenv import load_dotenv\n",
    "import os   \n",
    "\n",
    "def get_weather(city:str)-> str:\n",
    "    \"\"\"\n",
    "    Fetches the current weather for a given city.\n",
    "    This is a mock function that simulates fetching weather data.\n",
    "    :param city: The name of the city to get the weather for.\n",
    "    :return: A string describing the weather in the city.\n",
    "    \"\"\"\n",
    "    return f\"The weather in {city} is sunny with a high of 25°C.\"\n",
    "\n",
    "load_dotenv()\n",
    "api_key=os.getenv(\"OPENAI_API_KEY\")\n",
    "model_client = OpenAIChatCompletionClient(model=\"gpt-4o\", api_key=api_key)\n",
    "\n",
    "assitant = AssistantAgent(\n",
    "    name=\"HISTROY_EXPERT\",\n",
    "    model_client=model_client,\n",
    "    description=\"I am a history expert, I can answer questions about history.\",\n",
    "    system_message=\"You are a history expert. You can answer questions about historical events, figures, and timelines.\",\n",
    "    tools=[get_weather]  # Register the get_weather function as a tool\n",
    "    )\n",
    "\n",
    "async def test_weather_tool():\n",
    "    # Test the get_weather function\n",
    "    result = await assitant.run(task=\"What is the weather in New York?\")\n",
    "    print(result.messages[-1].content)  # Print the content of the last message\n",
    " \n",
    "\n",
    "await test_weather_tool()\n"
   ]
  },
  {
   "cell_type": "code",
   "execution_count": 6,
   "id": "235d0c04",
   "metadata": {},
   "outputs": [
    {
     "name": "stdout",
     "output_type": "stream",
     "text": [
      "The capital of France is Paris.\n"
     ]
    }
   ],
   "source": [
    "#65 Messages\n",
    "\n",
    "\n",
    "import asyncio\n",
    "from autogen_agentchat.agents import AssistantAgent\n",
    "from autogen_agentchat.messages import TextMessage, MultiModalMessage\n",
    "from autogen_core import Image as AGImage  \n",
    "\n",
    "from autogen_ext.models.openai import OpenAIChatCompletionClient\n",
    "\n",
    "from PIL import Image\n",
    "from io import BytesIO\n",
    "from dotenv import load_dotenv\n",
    "import os\n",
    "import requests\n",
    "\n",
    "load_dotenv()\n",
    "api_key = os.getenv(\"OPENAI_API_KEY\")\n",
    "if api_key is None:\n",
    "    raise ValueError(\"OPENAI_API_KEY environment variable not set\")\n",
    "model_client = OpenAIChatCompletionClient(model=\"gpt-4o\", api_key=api_key)\n",
    "\n",
    "\n",
    "agent = AssistantAgent(\n",
    "    name=\"textAssistant\",\n",
    "    model_client=model_client,\n",
    "    system_message=\"You are a helpful assistant that can process text and images.\"\n",
    ")\n",
    "\n",
    "async def test_text_message():\n",
    "    text_msg = TextMessage(content=\"capital of france?\", source='user')\n",
    "    result = await agent.run(task=text_msg)\n",
    "    print(result.messages[-1].content)  # Print the content of the last message\n",
    "\n",
    "await test_text_message()"
   ]
  },
  {
   "cell_type": "code",
   "execution_count": null,
   "id": "75fc906c",
   "metadata": {},
   "outputs": [
    {
     "name": "stdout",
     "output_type": "stream",
     "text": [
      "This dog looks like a black Labrador Retriever.\n"
     ]
    }
   ],
   "source": [
    "#MutltiModalMessage\n",
    "\n",
    "async def test_multimodal():\n",
    "    response = requests.get('https://picsum.photos/id/237/200/300')\n",
    "    pil_image = Image.open(BytesIO(response.content))\n",
    "    ag_image= AGImage(pil_image)\n",
    "    multi_modal_msg= MultiModalMessage(\n",
    "        content=[\"What breed is this dog?\",ag_image],\n",
    "        source='user'\n",
    "    )\n",
    "    #gpt-4o supports multimodal messages\n",
    "    result = await agent.run(task=multi_modal_msg)\n",
    "    print(result.messages[-1].content)  # Print the content of the last message\n",
    "\n",
    "await test_multimodal()"
   ]
  },
  {
   "cell_type": "code",
   "execution_count": 14,
   "id": "984bf230",
   "metadata": {},
   "outputs": [
    {
     "name": "stdout",
     "output_type": "stream",
     "text": [
      "Search results for 'Labrador Retriever information': [Mocked search results]\n",
      "[ToolCallRequestEvent(source='AssistantAgent', models_usage=RequestUsage(prompt_tokens=155, completion_tokens=18), metadata={}, created_at=datetime.datetime(2025, 6, 27, 23, 44, 10, 668384, tzinfo=datetime.timezone.utc), content=[FunctionCall(id='call_9FWJ7e8bY1Iss4jKpL5NE1XQ', arguments='{\"query\":\"Labrador Retriever information\"}', name='web_search')], type='ToolCallRequestEvent'), ToolCallExecutionEvent(source='AssistantAgent', models_usage=None, metadata={}, created_at=datetime.datetime(2025, 6, 27, 23, 44, 10, 670386, tzinfo=datetime.timezone.utc), content=[FunctionExecutionResult(content=\"Search results for 'Labrador Retriever information': [Mocked search results]\", name='web_search', call_id='call_9FWJ7e8bY1Iss4jKpL5NE1XQ', is_error=False)], type='ToolCallExecutionEvent')]\n",
      "\n",
      "\n",
      "\n",
      "\n",
      "source='AssistantAgent' models_usage=None metadata={} created_at=datetime.datetime(2025, 6, 27, 23, 44, 10, 670386, tzinfo=datetime.timezone.utc) content=\"Search results for 'Labrador Retriever information': [Mocked search results]\" type='ToolCallSummaryMessage' tool_calls=[FunctionCall(id='call_9FWJ7e8bY1Iss4jKpL5NE1XQ', arguments='{\"query\":\"Labrador Retriever information\"}', name='web_search')] results=[FunctionExecutionResult(content=\"Search results for 'Labrador Retriever information': [Mocked search results]\", name='web_search', call_id='call_9FWJ7e8bY1Iss4jKpL5NE1XQ', is_error=False)]\n"
     ]
    }
   ],
   "source": [
    "#67\n",
    "#Running and observing the agent\n",
    "\n",
    "\n",
    "from autogen_agentchat.agents import AssistantAgent\n",
    "from autogen_agentchat.messages import TextMessage, MultiModalMessage\n",
    "from autogen_core import Image as AGImage  \n",
    "\n",
    "from autogen_ext.models.openai import OpenAIChatCompletionClient\n",
    "\n",
    "from PIL import Image\n",
    "from io import BytesIO\n",
    "from dotenv import load_dotenv\n",
    "import requests\n",
    "import os\n",
    "\n",
    "load_dotenv()\n",
    "api_key = os.getenv(\"OPENAI_API_KEY\")\n",
    "\n",
    "model_client = OpenAIChatCompletionClient(model=\"gpt-4o\", api_key=api_key)\n",
    "\n",
    "async def web_search(query:str) -> str:\n",
    "    \"\"\"\n",
    "    Simulates a web search and returns a result.\n",
    "    This is a mock function that simulates searching the web.\n",
    "    :param query: The search query.\n",
    "    :return: A string simulating a web search result.\n",
    "    \"\"\"\n",
    "    return f\"Search results for '{query}': [Mocked search results]\"\n",
    "\n",
    "\n",
    "agent = AssistantAgent(\n",
    "    name=\"AssistantAgent\",\n",
    "    model_client=model_client,\n",
    "    tools=[web_search],\n",
    "    system_message='use tools to solve tasks'  # Register the get_weather function as a tool\n",
    ")\n",
    "\n",
    "result = await agent.run(task=\"find information about labrador retriever\")\n",
    "print(result.messages[-1].content)  # Print the content of the last message\n",
    "\n",
    "\n",
    "from autogen_core import CancellationToken\n",
    "\n",
    "async def assistant_run()-> None:\n",
    "    response = await agent.on_messages(\n",
    "        messages=[TextMessage(content=\"find information about labrador retriever\", source='user')],\n",
    "        cancellation_token=CancellationToken(),\n",
    "    )\n",
    "    print(response.inner_messages)\n",
    "    print('\\n\\n\\n')\n",
    "    print(response.chat_message)  # Print the content of the last message\n",
    "\n",
    "await assistant_run()\n"
   ]
  },
  {
   "cell_type": "code",
   "execution_count": 15,
   "id": "c46fa67c",
   "metadata": {},
   "outputs": [
    {
     "name": "stdout",
     "output_type": "stream",
     "text": [
      "---------- ToolCallRequestEvent (AssistantAgent) ----------\n",
      "[FunctionCall(id='call_TlirJh3fllcSpb3Xr8Dh5F04', arguments='{\"query\":\"Labrador Retriever breed information\"}', name='web_search')]\n",
      "[Prompt tokens: 210, Completion tokens: 19]\n",
      "---------- ToolCallExecutionEvent (AssistantAgent) ----------\n",
      "[FunctionExecutionResult(content=\"Search results for 'Labrador Retriever breed information': [Mocked search results]\", name='web_search', call_id='call_TlirJh3fllcSpb3Xr8Dh5F04', is_error=False)]\n",
      "---------- AssistantAgent ----------\n",
      "Search results for 'Labrador Retriever breed information': [Mocked search results]\n",
      "---------- Summary ----------\n",
      "Number of inner messages: 2\n",
      "Total prompt tokens: 210\n",
      "Total completion tokens: 19\n",
      "Duration: 2.33 seconds\n"
     ]
    }
   ],
   "source": [
    "from autogen_agentchat.ui import Console\n",
    "\n",
    "async def assistant_run_stream() -> None:\n",
    "    \n",
    "    await Console(\n",
    "        agent.on_messages_stream(\n",
    "            messages=[TextMessage(content=\"find information about labrador retriever\", source='user')],\n",
    "            cancellation_token=CancellationToken()\n",
    "        ),\n",
    "        output_stats= True #Enable stats printing\n",
    "    )\n",
    "\n",
    "await assistant_run_stream()"
   ]
  },
  {
   "cell_type": "code",
   "execution_count": 26,
   "id": "2fabd40d",
   "metadata": {},
   "outputs": [
    {
     "name": "stdout",
     "output_type": "stream",
     "text": [
      "Mars is often referred to as the \"Red Planet\" due to its reddish appearance, which is primarily caused by iron oxide, or rust, on its surface.\n",
      "\n",
      "The distance between Mars and Earth varies significantly due to their elliptical orbits. On average, Mars is about 140 million miles (225 million kilometers) from Earth. However, at its closest approach, called opposition, Mars can be as close as approximately 34 million miles (55 million kilometers) to Earth. At its farthest, when the two planets are on opposite sides of the Sun, the distance can be more than 250 million miles (400 million kilometers). Distance fluctuates over a two-year cycle, roughly aligning with Mars' opposition to Earth every 26 months.\n"
     ]
    }
   ],
   "source": [
    "#68\n",
    "#Structured output\n",
    "from autogen_agentchat.agents import AssistantAgent\n",
    "from autogen_agentchat.messages import TextMessage, MultiModalMessage\n",
    "from autogen_core import Image as AGImage  \n",
    "from autogen_ext.models.openai import OpenAIChatCompletionClient\n",
    "from pydantic import BaseModel, Field\n",
    "from dotenv import load_dotenv\n",
    "import os\n",
    "\n",
    "class PlanetInfo(BaseModel):\n",
    "    name: str\n",
    "    color:str\n",
    "    distance_miles:int\n",
    "\n",
    "load_dotenv()\n",
    "api_key = os.getenv(\"OPENAI_API_KEY\")\n",
    "\n",
    "model_client = OpenAIChatCompletionClient(\n",
    "    model=\"gpt-4o\",\n",
    "    api_key=api_key,\n",
    "    response_model = PlanetInfo\n",
    "    )\n",
    "\n",
    "agent = AssistantAgent(\n",
    "    name=\"PlanetInfoAgent\",\n",
    "    model_client=model_client,\n",
    "    system_message=\"You are an expert in planetary science. \"\n",
    ")\n",
    "\n",
    "async def test_Structured_output():\n",
    "    task = TextMessage(content=\"What is the color and distance of Mars from Earth in miles?\", source='user')\n",
    "    result = await agent.run(task=task)\n",
    "    structured_outcome= result.messages[-1].content\n",
    "    print(structured_outcome)  # Print the structured output\n",
    "\n",
    "await test_Structured_output()"
   ]
  },
  {
   "cell_type": "code",
   "execution_count": null,
   "id": "47bdb029",
   "metadata": {},
   "outputs": [
    {
     "name": "stdout",
     "output_type": "stream",
     "text": [
      "In the heart of the verdant kingdom of Elloria, nestled between sprawling forests and glistening rivers, there lay a quaint village known as Elderglen. The villagers were simple folk, tending to their sheep and harvesting golden fields of wheat. Yet, despite its idyllic landscape, Elderglen was shrouded in a shadow of fear, for in the cliffs above where forests thickened and mists never lifted, there resided a fearsome dragon named Tharion.\n",
      "\n",
      "Tharion was no ordinary dragon; his scales shimmered like a fiery sunrise, his eyes burned with the intensity of embers, and his roar could shake the very ground itself. He was the terror of the realm, descending from his lofty perch every year to claim tribute from the frightened villagers.\n",
      "\n",
      "In Elderglen, tales of the dragon's wrath were spoken in hushed voices, and the village council reluctantly paid the yearly tribute of livestock to keep the beast at bay. But with each passing year, the dragon's demands grew, leaving the villagers little to spare for themselves.\n",
      "\n",
      "Among them lived a knight named Sir Cedric, known for both his courage and his compassion. Sir Cedric possessed a heart of valor that was as unyielding as his armor, and he could not bear to see his people live in perpetual fear. A legend in his youth for his feats in tournaments, many believed his strength and bravery were gifts from the gods. Yet, in his heart, Sir Cedric knew the true source of his courage was his love for his fellow villagers and his belief in justice.\n",
      "\n",
      "Determined to end Tharion's reign of terror, Sir Cedric gathered his armor, mounted his trusty steed, Valor, and set forth at dawn. As the first fingers of sunlight crept over the hills, casting long shadows on the dewy grass, Sir Cedric journeyed up the winding path that led to the dragon's lair. His heart beat in a steady rhythm of resolve, his mind focused on the task ahead.\n",
      "\n",
      "Upon reaching the dragon's cave, Sir Cedric was met with a sight both magnificent and terrifying. Tharion lay coiled amidst heaps of gold and gems, the wealth of countless tributes shining dimly in the cavern's low light. Sensing the knight's approach, the dragon lifted its massive head, smoke curling from its nostrils.\n",
      "\n",
      "\"Knight of Elderglen, why do you seek me?\" Tharion's voice rumbled, echoing off the walls like distant thunder.\n",
      "\n",
      "\"I seek peace for my people,\" Sir Cedric declared, lifting his visor. \"For too long have we lived in fear, and too much have we given. I challenge you, mighty Tharion, to a duel of honor. If I am victorious, you shall leave Elderglen in peace.\"\n",
      "\n",
      "Tharion's laughter boomed like the roar of a river in flood. \"And should you fail, brave knight?\" the dragon questioned, flames dancing in his eyes.\n",
      "\n",
      "\"Then my life shall be forfeit, and Elderglen shall provide your tribute as before,\" Sir Cedric replied, his gaze unwavering.\n",
      "\n",
      "The dragon admired the knight's bravery, for it was rare indeed. With a mighty stretch, Tharion unfurled his wings, the cavern filling with an icy draught. \"I accept your challenge, noble sir,\" he growled, a hint of respect in his voice.\n",
      "\n",
      "The battle was fierce and filled with peril. Sir Cedric moved with agility, using the cavern's pillars to evade the dragon's fiery breath. Valor, his loyal steed, aided him with swift feints and gallops. Sir Cedric's sword struck like lightning, finding crevices between the dragon's scaled armor, while Tharion's maneuvers were both powerful and relentless.\n",
      "\n",
      "In the end, it was Sir Cedric's heart—a heart fueled by his love for Elderglen—that gave him the strength to press on even when his body wished to falter. With a final stroke, Sir Cedric plunged his sword into Tharion's heart, the dragon's roar of anguish filling the air.\n",
      "\n",
      "As Tharion's life slipped away, the great beast spoke once more, its voice now a whisper among the winds. \"Noble knight, today you have restored honor to these lands. Remember me not as a terror, but as a lover of freedom. For once, I too was free before being bound by a wizard's curse to reign as tyrant over these lands.\"\n",
      "\n",
      "The village celebrated Sir Cedric's victory, honoring him with songs and feasts. Yet, Sir Cedric never forgot Tharion's final words, understanding that true bravery sometimes lay in forgiveness and compassion. With his strength and wisdom, he helped guide Elderglen into an era of peace, teaching that even the fiercest dragon could hide a soul worthy of salvation.\n"
     ]
    }
   ],
   "source": [
    "# Multi Agent Systems\n",
    "\n",
    "#68\n",
    "#Structured output\n",
    "import asyncio\n",
    "from autogen_agentchat.agents import AssistantAgent\n",
    "from autogen_agentchat.messages import TextMessage, MultiModalMessage\n",
    "from autogen_core import Image as AGImage  \n",
    "from autogen_ext.models.openai import OpenAIChatCompletionClient\n",
    "from pydantic import BaseModel, Field\n",
    "from dotenv import load_dotenv\n",
    "import os \n",
    "\n",
    "load_dotenv()\n",
    "api_key = os.getenv(\"OPENAI_API_KEY\")\n",
    "\n",
    "model_client = OpenAIChatCompletionClient(\n",
    "    model=\"gpt-4o\",\n",
    "    api_key=api_key\n",
    "    )\n",
    "\n",
    "#Single Agent Approach\n",
    "story_agent = AssistantAgent(\n",
    "    name=\"Story_Agent\",\n",
    "    model_client=model_client,\n",
    "    system_message=\"You are an expert in creating stories. \"\n",
    ")\n",
    "\n",
    "async def test_simple_agent():\n",
    "    task = TextMessage(content=\"Write a short story about a brave knight.\", source='user')\n",
    "    result = await story_agent.run(task=task)\n",
    "    print(result.messages[-1].content)  # Print the content of the last message\n",
    "\n",
    "await test_simple_agent()"
   ]
  },
  {
   "cell_type": "code",
   "execution_count": 27,
   "id": "d5d6dfa0",
   "metadata": {},
   "outputs": [
    {
     "name": "stdout",
     "output_type": "stream",
     "text": [
      "user:\n",
      " Write a short story about a brave knight. keep it under 500 words\n",
      "\n",
      "PLOT_AGENT:\n",
      " In the heart of the Velorian Kingdom, where emerald hills touched the sky and the whisper of ancient legends danced upon the wind, there lived a valiant knight named Sir Aldric. Known throughout the realm for his unwavering courage and noble heart, Aldric carried a legacy passed down from the great warriors before him. His armor gleamed like the morning sun, reflecting his solemn vow to protect the weak and uphold justice.\n",
      "\n",
      "One crisp autumn morning, as the mist curled around the forest like a secret cloak, a proclamation echoed through the stone corridors of Velorian Castle. Queen Elara issued a summons to all knights: the cursed beast, Fenrir, had been sighted near the village of Eldergrove, leaving a trail of destruction. With a roar of anticipation from his fellow knights, Aldric volunteered to embark on this quest to bring peace back to the troubled hearts of his people.\n",
      "\n",
      "With his steed, Bramble, whose ebony mane flowed as fiercely as the river rapids, Aldric set forth. The path to Eldergrove was shrouded in the whispers of the past, where every tree seemed alive with ancient tales. As he journeyed deeper into the forest, the air grew heavy and shadows stretched into daunting shapes, but still, his resolve remained unshaken.\n",
      "\n",
      "On the second eve, Aldric reached the edge of the village, witnessing the fear in the eyes of the townsfolk. Homes lay in ruins, fields turned to ash. A small child, clutching a tattered toy, approached him with a question that cut to the bone, \"Can you help us, sir knight?\"\n",
      "\n",
      "With a look of determination, Aldric replied, \"I will see this beast vanquished, young one, you have my word.\"\n",
      "\n",
      "As moonlight bathed Eldergrove in silver, Aldric ventured into the depths of the forest where Fenrir was said to dwell. The air crackled with an eerie energy, the likes of which he had never felt. Then, from the shadows, emerged the beast – Fenrir, as massive as the tallest tower, its eyes glowing a deep, menacing red.\n",
      "\n",
      "With no hesitation, Aldric charged forward, heart beating like a war drum. The battle was fierce, a dance of clashing iron and primeval fury that echoed through the night. Fenrir, with its monstrous might, seemed unassailable, but Aldric’s spirit blazed brighter than flame. Every swing of his sword was driven by the cries of those he vowed to protect.\n",
      "\n",
      "Finally, as dawn's first light pierced the canopy, Aldric saw his opening. With a swift strike, he pierced Fenrir’s heart, and a great roar filled the forest. The beast fell, and at that moment, peace unfurled its wings over Eldergrove.\n",
      "\n",
      "Returning to the village, Aldric was met with cheers that sang high into the sky. The child with the tattered toy embraced him, hope rediscovered, as a new tale of valor took its place among the stars.\n",
      "\n",
      "Sir Aldric, the brave knight, had triumphed not only over darkness but the shadows within, his journey echoing for generations in the songs of the Velorian Kingdom.\n",
      "\n",
      "Character_writer:\n",
      " In the realm of Velorian, two formidable figures stand out: Sir Aldric and Fenrir, the dragon he faced. Both characters are intricately crafted, possessing distinct motivations and personalities that drive their actions and story.\n",
      "\n",
      "### Sir Aldric, the Valiant Knight:\n",
      "\n",
      "**Personality:**\n",
      "Sir Aldric is a paragon of chivalry and steadfast resolve. His heart is noble, reflected in his unwavering commitment to justice and protection of the vulnerable. He is compassionate and empathetic, always willing to lend a hand to those in need. Despite his courage, Aldric possesses a sense of humility and does not seek glory for its own sake. Instead, his satisfaction comes from knowing he’s made a difference in the lives of his people.\n",
      "\n",
      "**Motivations:**\n",
      "Aldric is driven by a deep sense of duty and a personal code of honor. Having seen the ravages of war and the cost of indifference, his primary motivation is to maintain peace in Velorian and safeguard its inhabitants. The legacy of his ancestors, who fought for similar ideals, inspires him to uphold their mantle and ensure their stories remain alive through his deeds.\n",
      "\n",
      "### Fenrir, the Cursed Dragon:\n",
      "\n",
      "**Personality:**\n",
      "Fenrir is a creature shaped by the shadowy tendrils of a curse, which has twisted his once-gentle soul into one of ferocity and wrath. Despite his terrifying presence, remnants of his former self linger beneath the surface. Fenrir is not malevolent by nature but reacts instinctively to the pain and fear inflicted upon him by his curse. This duality makes him a tragic figure, a monster in form but not entirely in spirit.\n",
      "\n",
      "**Motivations:**\n",
      "Fenrir’s actions are driven by a primal instinct to survive in a world that perceives him as a threat. The curse clouds his judgment, causing him to lash out in fear and confusion at those who approach him. However, deep within, Fenrir yearns for liberation from his affliction, seeking solace in a restless slumber. His destructive path is less about malice and more about a tragic consequence of events beyond his control.\n",
      "\n",
      "Both Sir Aldric and Fenrir are bound by their circumstances, their destinies intertwined by the forces at play in Velorian. While Aldric embodies the light, standing resolute against darkness, Fenrir represents a misunderstood entity seeking release from his tortured existence. Their confrontation is as much a battle of ideals as it is a physical clash, with Aldric’s compassion providing the means to see beyond Fenrir’s monstrous facade, allowing the real victory to lie in understanding and redemption.\n",
      "\n",
      "Ending_writer:\n",
      " With the personalities and motivations of both Sir Aldric and Fenrir laid bare, their story draws towards its inevitable yet poignant conclusion. Sir Aldric, having defeated Fenrir, did not see the beast as merely vanquished. Instead, he saw an opportunity for redemption, a chance to restore what once was.\n",
      "\n",
      "In the aftermath of their fierce battle, as the villagers celebrated their new dawn, Aldric returned to the fallen dragon. He felt a strange recognition in Fenrir's lifeless eyes, as if the creature had yearned for understanding rather than destruction. Kneeling beside Fenrir, Aldric whispered words of absolution, acknowledging the beast's internal struggle and sorrow.\n",
      "\n",
      "Moved by Aldric’s compassion, the winds of Velorian began to swirl gently, carrying whispers of ancient magic. The curse that had bound Fenrir for centuries started to unravel, dissipating like morning mist. Slowly, Fenrir’s form shifted, transforming back into the majestic creature of legend, freed from the darkness that had twisted its nature.\n",
      "\n",
      "With great reverence, Aldric watched as Fenrir’s spirit rose into the heavens, a symbol of forgiveness and peace. The dragon’s energy seeped back into the land, rejuvenating the once-scorched fields of Eldergrove, a testament to the powerful magic of redemption and understanding.\n",
      "\n",
      "Moved by the profound transformation, Aldric returned to the village, his heart brimming with new wisdom. He had learned that true courage was not merely in defeating enemies, but in seeking out the light within the darkest places.\n",
      "\n",
      "Queen Elara and the people of Velorian welcomed him back as a hero, but Aldric deflected the praise. He shared Fenrir’s story, ensuring that the dragon's legacy would not be one of fear and destruction, but of liberation and hope.\n",
      "\n",
      "In the years that followed, the tale of Sir Aldric and Fenrir became legend, teaching future generations the value of compassion over conquest. The bond forged between the knight and the dragon transcended the boundaries of life and death, echoing through the ages as a reminder that understanding and empathy hold the true power to transform the world.\n",
      "\n",
      "Thus, Aldric's actions not only restored peace to Velorian but also healed a divide that had lingered for centuries, affirming his place not just as a warrior, but as a beacon of light in a realm that now knew peace.\n",
      "\n",
      "With the personalities and motivations of both Sir Aldric and Fenrir laid bare, their story draws towards its inevitable yet poignant conclusion. Sir Aldric, having defeated Fenrir, did not see the beast as merely vanquished. Instead, he saw an opportunity for redemption, a chance to restore what once was.\n",
      "\n",
      "In the aftermath of their fierce battle, as the villagers celebrated their new dawn, Aldric returned to the fallen dragon. He felt a strange recognition in Fenrir's lifeless eyes, as if the creature had yearned for understanding rather than destruction. Kneeling beside Fenrir, Aldric whispered words of absolution, acknowledging the beast's internal struggle and sorrow.\n",
      "\n",
      "Moved by Aldric’s compassion, the winds of Velorian began to swirl gently, carrying whispers of ancient magic. The curse that had bound Fenrir for centuries started to unravel, dissipating like morning mist. Slowly, Fenrir’s form shifted, transforming back into the majestic creature of legend, freed from the darkness that had twisted its nature.\n",
      "\n",
      "With great reverence, Aldric watched as Fenrir’s spirit rose into the heavens, a symbol of forgiveness and peace. The dragon’s energy seeped back into the land, rejuvenating the once-scorched fields of Eldergrove, a testament to the powerful magic of redemption and understanding.\n",
      "\n",
      "Moved by the profound transformation, Aldric returned to the village, his heart brimming with new wisdom. He had learned that true courage was not merely in defeating enemies, but in seeking out the light within the darkest places.\n",
      "\n",
      "Queen Elara and the people of Velorian welcomed him back as a hero, but Aldric deflected the praise. He shared Fenrir’s story, ensuring that the dragon's legacy would not be one of fear and destruction, but of liberation and hope.\n",
      "\n",
      "In the years that followed, the tale of Sir Aldric and Fenrir became legend, teaching future generations the value of compassion over conquest. The bond forged between the knight and the dragon transcended the boundaries of life and death, echoing through the ages as a reminder that understanding and empathy hold the true power to transform the world.\n",
      "\n",
      "Thus, Aldric's actions not only restored peace to Velorian but also healed a divide that had lingered for centuries, affirming his place not just as a warrior, but as a beacon of light in a realm that now knew peace.\n"
     ]
    }
   ],
   "source": [
    "#multi_agent_system\n",
    "\n",
    "from autogen_agentchat.agents import AssistantAgent\n",
    "from autogen_agentchat.messages import TextMessage\n",
    "from autogen_ext.models.openai import OpenAIChatCompletionClient\n",
    "from autogen_agentchat.teams import RoundRobinGroupChat\n",
    " \n",
    "from dotenv import load_dotenv\n",
    "import os \n",
    "\n",
    "load_dotenv()\n",
    "api_key = os.getenv(\"OPENAI_API_KEY\")\n",
    "\n",
    "model_client = OpenAIChatCompletionClient(\n",
    "    model=\"gpt-4o\",\n",
    "    api_key=api_key\n",
    "    )\n",
    "\n",
    "#Single Agent Approach\n",
    "plot_agent = AssistantAgent(\n",
    "    name=\"PLOT_AGENT\",\n",
    "    model_client=model_client,\n",
    "    system_message=\"You create enagaging plot for stories. Focus on the knights journey \"\n",
    ")\n",
    "\n",
    "character_agent = AssistantAgent(\n",
    "    name=\"Character_writer\",\n",
    "    model_client=model_client,\n",
    "    system_message=\"You develop characters. Describe the knight and dragon in detail including their motivations and personalities.\"\n",
    ")\n",
    "\n",
    "ending_agent = AssistantAgent(\n",
    "    name=\"Ending_writer\",\n",
    "    model_client=model_client,\n",
    "    system_message=\"You create a compelling ending for the story. Ensure it is satisfying and ties up all loose ends.\"\n",
    ")\n",
    "\n",
    "team_agents= RoundRobinGroupChat(\n",
    "    [plot_agent, character_agent, ending_agent],\n",
    "    max_turns=3,  # Maximum number of rounds for the conversation\n",
    ")\n",
    "\n",
    "async def test_team_agents():\n",
    "    task = TextMessage(content=\"Write a short story about a brave knight. keep it under 500 words\",\n",
    "                        source='user')\n",
    "    result = await team_agents.run(task=task)\n",
    "    for each_agent_message in result.messages:\n",
    "        print(f\"{each_agent_message.source }:\\n {each_agent_message.content}\\n\")\n",
    "    print(result.messages[-1].content)  # Print the content of the last message\n",
    "\n",
    "\n",
    "await test_team_agents()\n",
    "\n"
   ]
  },
  {
   "cell_type": "code",
   "execution_count": null,
   "id": "d36a2fd6",
   "metadata": {},
   "outputs": [],
   "source": [
    "#comparison table"
   ]
  },
  {
   "cell_type": "code",
   "execution_count": 2,
   "id": "4ccd95dd",
   "metadata": {},
   "outputs": [
    {
     "name": "stdout",
     "output_type": "stream",
     "text": [
      "source='user' models_usage=None metadata={} created_at=datetime.datetime(2025, 6, 30, 3, 39, 8, 258325, tzinfo=datetime.timezone.utc) content='write a poem on the spring season' type='TextMessage'\n",
      "source='PLOT_AGENT' models_usage=RequestUsage(prompt_tokens=40, completion_tokens=15) metadata={} created_at=datetime.datetime(2025, 6, 30, 3, 39, 9, 493845, tzinfo=datetime.timezone.utc) content='Blossoms bloom, gentle breeze whispers, nature awakens with grace.' type='TextMessage'\n",
      "source='Character_writer' models_usage=RequestUsage(prompt_tokens=64, completion_tokens=37) metadata={} created_at=datetime.datetime(2025, 6, 30, 3, 39, 10, 757769, tzinfo=datetime.timezone.utc) content='Knight: Brave, honorable, seeks justice; driven by chivalry, loyalty, compassion.\\n\\nDragon: Fierce, wise, guards treasure; motivated by survival, solitude, legacy.' type='TextMessage'\n",
      "source='Ending_writer' models_usage=RequestUsage(prompt_tokens=110, completion_tokens=13) metadata={} created_at=datetime.datetime(2025, 6, 30, 3, 39, 11, 660856, tzinfo=datetime.timezone.utc) content='Knight and dragon form alliance, ushering peace and prosperity forever.' type='TextMessage'\n",
      "Stop reason: Maximum number of turns 3 reached.\n",
      "---------- TextMessage (user) ----------\n",
      "write a poem on the spring season\n",
      "---------- TextMessage (PLOT_AGENT) ----------\n",
      "Spring arrives, colors burst, life renews, warmth embraces earth's heart.\n",
      "---------- TextMessage (Character_writer) ----------\n",
      "Emerald buds unfurl, blossoms paint fields, joyous songs fill skies.\n",
      "---------- TextMessage (Ending_writer) ----------\n",
      "New life blooms, earth refreshed, spirits lifted in spring's embrace.\n"
     ]
    },
    {
     "data": {
      "text/plain": [
       "TaskResult(messages=[TextMessage(source='user', models_usage=None, metadata={}, created_at=datetime.datetime(2025, 6, 30, 3, 39, 11, 663849, tzinfo=datetime.timezone.utc), content='write a poem on the spring season', type='TextMessage'), TextMessage(source='PLOT_AGENT', models_usage=RequestUsage(prompt_tokens=135, completion_tokens=16), metadata={}, created_at=datetime.datetime(2025, 6, 30, 3, 39, 32, 944938, tzinfo=datetime.timezone.utc), content=\"Spring arrives, colors burst, life renews, warmth embraces earth's heart.\", type='TextMessage'), TextMessage(source='Character_writer', models_usage=RequestUsage(prompt_tokens=160, completion_tokens=15), metadata={}, created_at=datetime.datetime(2025, 6, 30, 3, 39, 54, 100118, tzinfo=datetime.timezone.utc), content='Emerald buds unfurl, blossoms paint fields, joyous songs fill skies.', type='TextMessage'), TextMessage(source='Ending_writer', models_usage=RequestUsage(prompt_tokens=184, completion_tokens=14), metadata={}, created_at=datetime.datetime(2025, 6, 30, 3, 40, 15, 609749, tzinfo=datetime.timezone.utc), content=\"New life blooms, earth refreshed, spirits lifted in spring's embrace.\", type='TextMessage')], stop_reason='Maximum number of turns 3 reached.')"
      ]
     },
     "execution_count": 2,
     "metadata": {},
     "output_type": "execute_result"
    }
   ],
   "source": [
    "#observability\n",
    "#71\n",
    " \n",
    "from autogen_agentchat.agents import AssistantAgent\n",
    "from autogen_agentchat.messages import TextMessage\n",
    "from autogen_ext.models.openai import OpenAIChatCompletionClient\n",
    "from autogen_agentchat.teams import RoundRobinGroupChat\n",
    "from autogen_agentchat.base import TaskResult\n",
    "from autogen_agentchat.ui import Console\n",
    "from dotenv import load_dotenv\n",
    "\n",
    "import os \n",
    "\n",
    "load_dotenv()\n",
    "api_key = os.getenv(\"OPENAI_API_KEY\")\n",
    "\n",
    "model_client = OpenAIChatCompletionClient(\n",
    "    model=\"gpt-4o\",\n",
    "    api_key=api_key\n",
    "    )\n",
    "\n",
    "#Single Agent Approach\n",
    "plot_agent = AssistantAgent(\n",
    "    name=\"PLOT_AGENT\",\n",
    "    model_client=model_client,\n",
    "    system_message=\"You create enagaging plot for stories. Focus on the knights journey. Complete in 10 words \"\n",
    ")\n",
    "\n",
    "character_agent = AssistantAgent(\n",
    "    name=\"Character_writer\",\n",
    "    model_client=model_client,\n",
    "    system_message=\"You develop characters. Describe the knight and dragon in detail including their motivations and personalities.  Complete in 10 words\"\n",
    ")\n",
    "\n",
    "ending_agent = AssistantAgent(\n",
    "    name=\"Ending_writer\",\n",
    "    model_client=model_client,\n",
    "    system_message=\"You create a compelling ending for the story. Ensure it is satisfying and ties up all loose ends. Complete in 10 words\"\n",
    ")\n",
    "\n",
    "team_agents= RoundRobinGroupChat(\n",
    "    [plot_agent, character_agent, ending_agent],\n",
    "    max_turns=3,  # Maximum number of rounds for the conversation\n",
    ")\n",
    "\n",
    "async for message in team_agents.run_stream(task=\"write a poem on the spring season\"):\n",
    "    #print(message)\n",
    "    #print(type(message))\n",
    "    if isinstance(message, TaskResult):\n",
    "        print(f\"Stop reason: {message.stop_reason}\")\n",
    "    else:\n",
    "        print((message))\n",
    "\n",
    "await Console(team_agents.run_stream(task=\"write a poem on the spring season\"))  \n",
    "  \n",
    "\n"
   ]
  },
  {
   "cell_type": "code",
   "execution_count": 1,
   "id": "8cf534e2",
   "metadata": {},
   "outputs": [
    {
     "name": "stdout",
     "output_type": "stream",
     "text": [
      "---------- TextMessage (add_1_agent_first) ----------\n",
      "1\n",
      "---------- TextMessage (add_1_agent_second) ----------\n",
      "2\n",
      "---------- TextMessage (add_1_agent_third) ----------\n",
      "3\n"
     ]
    },
    {
     "data": {
      "text/plain": [
       "TaskResult(messages=[TextMessage(source='add_1_agent_first', models_usage=RequestUsage(prompt_tokens=24, completion_tokens=1), metadata={}, created_at=datetime.datetime(2025, 6, 30, 21, 18, 28, 308405, tzinfo=datetime.timezone.utc), content='1', type='TextMessage'), TextMessage(source='add_1_agent_second', models_usage=RequestUsage(prompt_tokens=29, completion_tokens=1), metadata={}, created_at=datetime.datetime(2025, 6, 30, 21, 18, 29, 213617, tzinfo=datetime.timezone.utc), content='2', type='TextMessage'), TextMessage(source='add_1_agent_third', models_usage=RequestUsage(prompt_tokens=39, completion_tokens=1), metadata={}, created_at=datetime.datetime(2025, 6, 30, 21, 18, 30, 456152, tzinfo=datetime.timezone.utc), content='3', type='TextMessage')], stop_reason='Maximum number of turns 3 reached.')"
      ]
     },
     "execution_count": 1,
     "metadata": {},
     "output_type": "execute_result"
    }
   ],
   "source": [
    "#Team Operations: Reset, Stop, Resume and Abort\n",
    "#72\n",
    "from autogen_agentchat.agents import AssistantAgent\n",
    "from autogen_agentchat.messages import TextMessage\n",
    "from autogen_ext.models.openai import OpenAIChatCompletionClient\n",
    "from autogen_agentchat.teams import RoundRobinGroupChat\n",
    "from autogen_agentchat.base import TaskResult\n",
    "from autogen_agentchat.ui import Console\n",
    "from dotenv import load_dotenv\n",
    "import os \n",
    "\n",
    "load_dotenv()\n",
    "api_key = os.getenv(\"OPENAI_API_KEY\")\n",
    "\n",
    "model_client = OpenAIChatCompletionClient(\n",
    "    model=\"gpt-4o\",\n",
    "    api_key=api_key\n",
    "    )\n",
    "\n",
    "add_1_agent_first = AssistantAgent(\n",
    "    name=\"add_1_agent_first\",\n",
    "    model_client=model_client,\n",
    "    system_message=\"Add 1 to the number , first number is 0. Give result as output\"\n",
    ")\n",
    "\n",
    "add_1_agent_second = AssistantAgent(\n",
    "    name=\"add_1_agent_second\",\n",
    "    model_client=model_client,\n",
    "    system_message=\"Add 1 to the output. Give result as output.\"\n",
    ")\n",
    "\n",
    "add_1_agent_third = AssistantAgent(\n",
    "    name=\"add_1_agent_third\",\n",
    "    model_client=model_client,\n",
    "    system_message=\"Add 1 to the output. Give result as output.\"\n",
    ")\n",
    "\n",
    "team_agents= RoundRobinGroupChat(\n",
    "    [add_1_agent_first, add_1_agent_second, add_1_agent_third],  \n",
    "    max_turns=3,  # Maximum number of rounds for the conversation\n",
    ")\n",
    "\n",
    "await Console(team_agents.run_stream())\n"
   ]
  },
  {
   "cell_type": "code",
   "execution_count": 2,
   "id": "df493341",
   "metadata": {},
   "outputs": [
    {
     "name": "stdout",
     "output_type": "stream",
     "text": [
      "---------- TextMessage (user) ----------\n",
      "What is the largest number in the result\n",
      "---------- TextMessage (add_1_agent_first) ----------\n",
      "The largest number in the sequence you provided is 3.\n",
      "---------- TextMessage (add_1_agent_second) ----------\n",
      "The largest number in the sequence you provided is 3. Adding 1 to 3 gives 4.\n",
      "---------- TextMessage (add_1_agent_third) ----------\n",
      "The largest number in the result is 4.\n"
     ]
    },
    {
     "data": {
      "text/plain": [
       "TaskResult(messages=[TextMessage(source='user', models_usage=None, metadata={}, created_at=datetime.datetime(2025, 6, 30, 21, 23, 32, 382834, tzinfo=datetime.timezone.utc), content='What is the largest number in the result', type='TextMessage'), TextMessage(source='add_1_agent_first', models_usage=RequestUsage(prompt_tokens=63, completion_tokens=12), metadata={}, created_at=datetime.datetime(2025, 6, 30, 21, 23, 33, 294092, tzinfo=datetime.timezone.utc), content='The largest number in the sequence you provided is 3.', type='TextMessage'), TextMessage(source='add_1_agent_second', models_usage=RequestUsage(prompt_tokens=79, completion_tokens=22), metadata={}, created_at=datetime.datetime(2025, 6, 30, 21, 23, 33, 912675, tzinfo=datetime.timezone.utc), content='The largest number in the sequence you provided is 3. Adding 1 to 3 gives 4.', type='TextMessage'), TextMessage(source='add_1_agent_third', models_usage=RequestUsage(prompt_tokens=109, completion_tokens=10), metadata={}, created_at=datetime.datetime(2025, 6, 30, 21, 23, 34, 589557, tzinfo=datetime.timezone.utc), content='The largest number in the result is 4.', type='TextMessage')], stop_reason='Maximum number of turns 3 reached.')"
      ]
     },
     "execution_count": 2,
     "metadata": {},
     "output_type": "execute_result"
    }
   ],
   "source": [
    "await Console(team_agents.run_stream(task=\"What is the largest number in the result\"))"
   ]
  },
  {
   "cell_type": "code",
   "execution_count": 10,
   "id": "dc7bcdec",
   "metadata": {},
   "outputs": [
    {
     "name": "stdout",
     "output_type": "stream",
     "text": [
      "---------- TextMessage (add_1_agent_first) ----------\n",
      "The result of adding 1 to the number 3 is 4.\n",
      "---------- TextMessage (add_1_agent_second) ----------\n",
      "The result of adding 1 to the number 4 is 5.\n",
      "---------- TextMessage (add_1_agent_third) ----------\n",
      "The result of adding 1 to the number 5 is 6.\n"
     ]
    },
    {
     "data": {
      "text/plain": [
       "TaskResult(messages=[TextMessage(source='add_1_agent_first', models_usage=RequestUsage(prompt_tokens=92, completion_tokens=15), metadata={}, created_at=datetime.datetime(2025, 6, 30, 17, 9, 53, 148951, tzinfo=datetime.timezone.utc), content='The result of adding 1 to the number 3 is 4.', type='TextMessage'), TextMessage(source='add_1_agent_second', models_usage=RequestUsage(prompt_tokens=111, completion_tokens=15), metadata={}, created_at=datetime.datetime(2025, 6, 30, 17, 10, 14, 244532, tzinfo=datetime.timezone.utc), content='The result of adding 1 to the number 4 is 5.', type='TextMessage'), TextMessage(source='add_1_agent_third', models_usage=RequestUsage(prompt_tokens=134, completion_tokens=15), metadata={}, created_at=datetime.datetime(2025, 6, 30, 17, 10, 35, 242120, tzinfo=datetime.timezone.utc), content='The result of adding 1 to the number 5 is 6.', type='TextMessage')], stop_reason='Maximum number of turns 3 reached.')"
      ]
     },
     "execution_count": 10,
     "metadata": {},
     "output_type": "execute_result"
    }
   ],
   "source": [
    "#Resuming a team- Continues from top with final result\n",
    "await Console(team_agents.run_stream())"
   ]
  },
  {
   "cell_type": "code",
   "execution_count": 4,
   "id": "93370e05",
   "metadata": {},
   "outputs": [
    {
     "name": "stdout",
     "output_type": "stream",
     "text": [
      "---------- TextMessage (add_1_agent_first) ----------\n",
      "1\n",
      "---------- TextMessage (add_1_agent_second) ----------\n",
      "2\n",
      "---------- TextMessage (add_1_agent_third) ----------\n",
      "3\n"
     ]
    },
    {
     "data": {
      "text/plain": [
       "TaskResult(messages=[TextMessage(source='add_1_agent_first', models_usage=RequestUsage(prompt_tokens=24, completion_tokens=1), metadata={}, created_at=datetime.datetime(2025, 6, 30, 21, 25, 38, 536110, tzinfo=datetime.timezone.utc), content='1', type='TextMessage'), TextMessage(source='add_1_agent_second', models_usage=RequestUsage(prompt_tokens=29, completion_tokens=1), metadata={}, created_at=datetime.datetime(2025, 6, 30, 21, 25, 39, 290609, tzinfo=datetime.timezone.utc), content='2', type='TextMessage'), TextMessage(source='add_1_agent_third', models_usage=RequestUsage(prompt_tokens=39, completion_tokens=1), metadata={}, created_at=datetime.datetime(2025, 6, 30, 21, 25, 40, 828760, tzinfo=datetime.timezone.utc), content='3', type='TextMessage')], stop_reason='Maximum number of turns 3 reached.')"
      ]
     },
     "execution_count": 4,
     "metadata": {},
     "output_type": "execute_result"
    }
   ],
   "source": [
    "#reset the team\n",
    "await team_agents.reset()\n",
    "\n",
    "#running after reset\n",
    "await Console(team_agents.run_stream())"
   ]
  },
  {
   "cell_type": "code",
   "execution_count": 7,
   "id": "ef6497c8",
   "metadata": {},
   "outputs": [
    {
     "name": "stdout",
     "output_type": "stream",
     "text": [
      "---------- TextMessage (add_1_agent_first) ----------\n",
      "1\n",
      "---------- TextMessage (add_1_agent_second) ----------\n",
      "The result is 2.\n",
      "---------- TextMessage (add_1_agent_third) ----------\n",
      "The result is 3.\n",
      "---------- TextMessage (add_1_agent_first) ----------\n",
      "The result is 4.\n",
      "---------- TextMessage (add_1_agent_second) ----------\n",
      "The result is 5.\n"
     ]
    },
    {
     "data": {
      "text/plain": [
       "TaskResult(messages=[TextMessage(source='add_1_agent_first', models_usage=RequestUsage(prompt_tokens=24, completion_tokens=1), metadata={}, created_at=datetime.datetime(2025, 7, 1, 1, 52, 17, 146720, tzinfo=datetime.timezone.utc), content='1', type='TextMessage'), TextMessage(source='add_1_agent_second', models_usage=RequestUsage(prompt_tokens=29, completion_tokens=6), metadata={}, created_at=datetime.datetime(2025, 7, 1, 1, 52, 17, 518778, tzinfo=datetime.timezone.utc), content='The result is 2.', type='TextMessage'), TextMessage(source='add_1_agent_third', models_usage=RequestUsage(prompt_tokens=44, completion_tokens=6), metadata={}, created_at=datetime.datetime(2025, 7, 1, 1, 52, 18, 40418, tzinfo=datetime.timezone.utc), content='The result is 3.', type='TextMessage'), TextMessage(source='add_1_agent_first', models_usage=RequestUsage(prompt_tokens=60, completion_tokens=6), metadata={}, created_at=datetime.datetime(2025, 7, 1, 1, 52, 39, 288570, tzinfo=datetime.timezone.utc), content='The result is 4.', type='TextMessage'), TextMessage(source='add_1_agent_second', models_usage=RequestUsage(prompt_tokens=70, completion_tokens=6), metadata={}, created_at=datetime.datetime(2025, 7, 1, 1, 53, 0, 151449, tzinfo=datetime.timezone.utc), content='The result is 5.', type='TextMessage')], stop_reason='Maximum number of messages 5 reached, current message count: 5')"
      ]
     },
     "execution_count": 7,
     "metadata": {},
     "output_type": "execute_result"
    }
   ],
   "source": [
    "#73 Terminations in microsoft autogen\n",
    "#Agents can run forever, so we need to terminate them\n",
    "#use terminiation conidition to stop the agents\n",
    "\n",
    "from autogen_agentchat.agents import AssistantAgent\n",
    "from autogen_agentchat.messages import TextMessage\n",
    "from autogen_ext.models.openai import OpenAIChatCompletionClient\n",
    "from autogen_agentchat.teams import RoundRobinGroupChat\n",
    "from autogen_agentchat.base import TaskResult\n",
    "from autogen_agentchat.ui import Console\n",
    "from autogen_agentchat.conditions import MaxMessageTermination \n",
    "from dotenv import load_dotenv\n",
    "import os \n",
    "\n",
    "load_dotenv()\n",
    "api_key = os.getenv(\"OPENAI_API_KEY\")\n",
    "\n",
    "model_client = OpenAIChatCompletionClient(\n",
    "    model=\"gpt-4o\",\n",
    "    api_key=api_key\n",
    "    )\n",
    "\n",
    "termination_condition_max = MaxMessageTermination(max_messages=5)\n",
    "\n",
    "\n",
    "add_1_agent_first = AssistantAgent(\n",
    "    name=\"add_1_agent_first\",\n",
    "    model_client=model_client,\n",
    "    system_message=\"Add 1 to the number , first number is 0. Give result as output\"\n",
    ")\n",
    "\n",
    "add_1_agent_second = AssistantAgent(\n",
    "    name=\"add_1_agent_second\",\n",
    "    model_client=model_client,\n",
    "    system_message=\"Add 1 to the output. Give result as output.\"\n",
    ")\n",
    "\n",
    "add_1_agent_third = AssistantAgent(\n",
    "    name=\"add_1_agent_third\",\n",
    "    model_client=model_client,\n",
    "    system_message=\"Add 1 to the output. Give result as output.\"\n",
    ")\n",
    "\n",
    "team_agents= RoundRobinGroupChat(\n",
    "    [add_1_agent_first, add_1_agent_second, add_1_agent_third],\n",
    "    termination_condition=termination_condition_max,  # Set the termination condition\n",
    ")\n",
    "\n",
    "await Console(team_agents.run_stream())\n",
    "\n"
   ]
  },
  {
   "cell_type": "code",
   "execution_count": 9,
   "id": "18cdff1b",
   "metadata": {},
   "outputs": [
    {
     "name": "stdout",
     "output_type": "stream",
     "text": [
      "---------- TextMessage (user) ----------\n",
      "write a story about a brave knight\n",
      "---------- TextMessage (story_writer) ----------\n",
      "Sir Elric, driven by courage, ventured into dragon-guarded realms, defeating beasts with valor. His bravery inspired his kingdom, proving that true heroism always lights the path to victory.\n"
     ]
    },
    {
     "data": {
      "text/plain": [
       "TaskResult(messages=[TextMessage(source='user', models_usage=None, metadata={}, created_at=datetime.datetime(2025, 7, 1, 2, 22, 33, 722469, tzinfo=datetime.timezone.utc), content='write a story about a brave knight', type='TextMessage'), TextMessage(source='story_writer', models_usage=RequestUsage(prompt_tokens=42, completion_tokens=39), metadata={}, created_at=datetime.datetime(2025, 7, 1, 2, 22, 36, 118030, tzinfo=datetime.timezone.utc), content='Sir Elric, driven by courage, ventured into dragon-guarded realms, defeating beasts with valor. His bravery inspired his kingdom, proving that true heroism always lights the path to victory.', type='TextMessage')], stop_reason='External termination requested')"
      ]
     },
     "execution_count": 9,
     "metadata": {},
     "output_type": "execute_result"
    }
   ],
   "source": [
    "#external termination\n",
    "\n",
    "#74\n",
    "\n",
    "from autogen_agentchat.agents import AssistantAgent\n",
    "from autogen_agentchat.messages import TextMessage\n",
    "from autogen_ext.models.openai import OpenAIChatCompletionClient\n",
    "from autogen_agentchat.teams import RoundRobinGroupChat\n",
    "from autogen_agentchat.base import TaskResult\n",
    "from autogen_agentchat.ui import Console\n",
    "from autogen_agentchat.conditions import MaxMessageTermination, ExternalTermination\n",
    "from dotenv import load_dotenv\n",
    "import os \n",
    "import asyncio\n",
    "\n",
    "load_dotenv()\n",
    "api_key = os.getenv(\"OPENAI_API_KEY\")\n",
    "\n",
    "model_client = OpenAIChatCompletionClient(\n",
    "    model=\"gpt-4o\",\n",
    "    api_key=api_key\n",
    "    )\n",
    "\n",
    "agent1 = AssistantAgent(\n",
    "    name=\"story_writer\",\n",
    "    model_client=model_client,\n",
    "    system_message=\"Give the story about a brave knight. The story should be engaging and inspiring.Keep it short within 30 words\"\n",
    ")\n",
    "\n",
    "agent2 = AssistantAgent(\n",
    "    name=\"story_critic\",\n",
    "    model_client=model_client,\n",
    "    system_message=\"Continue the story and ciritc it with feedback. Keep it short within 30 words\"\n",
    ")\n",
    "\n",
    "\n",
    "ext_termination = ExternalTermination()\n",
    "\n",
    "team_agents= RoundRobinGroupChat(\n",
    "    [agent1, agent2],\n",
    "    termination_condition=ext_termination,  # Set the termination condition\n",
    ")\n",
    "\n",
    "run = asyncio.create_task(\n",
    "    Console(team_agents.run_stream(task=\"write a story about a brave knight\"))\n",
    ")\n",
    "\n",
    "await asyncio.sleep(2)  # Let the agents run for a while\n",
    "\n",
    "ext_termination.set()  # Terminate the agents externally\n",
    "await run"
   ]
  },
  {
   "cell_type": "code",
   "execution_count": null,
   "id": "84bcb1c1",
   "metadata": {},
   "outputs": [],
   "source": [
    "#75\n",
    "#Aborting a team of agents\n",
    "\n",
    "\n",
    "from autogen_agentchat.agents import AssistantAgent\n",
    "from autogen_core import CancellationToken\n",
    "from autogen_agentchat.messages import TextMessage\n",
    "from autogen_ext.models.openai import OpenAIChatCompletionClient\n",
    "from autogen_agentchat.teams import RoundRobinGroupChat\n",
    "from autogen_agentchat.base import TaskResult\n",
    "from autogen_agentchat.ui import Console\n",
    "from autogen_agentchat.conditions import MaxMessageTermination, ExternalTermination\n",
    "from dotenv import load_dotenv\n",
    "import os \n",
    "import asyncio\n",
    "\n",
    "load_dotenv()\n",
    "api_key = os.getenv(\"OPENAI_API_KEY\")\n",
    "cancellation_token= CancellationToken()\n",
    "\n",
    "model_client = OpenAIChatCompletionClient(\n",
    "    model=\"gpt-4o\",\n",
    "    api_key=api_key\n",
    "    )\n",
    "\n",
    "agent1 = AssistantAgent(\n",
    "    name=\"solo_poet\",\n",
    "    model_client=model_client,\n",
    "    system_message=\"You are a poet. Write a short poem on Moon and end with Moonlight. Keep it short within 30 words\"\n",
    ")\n",
    "termin"
   ]
  },
  {
   "cell_type": "code",
   "execution_count": 15,
   "id": "fb4309c4",
   "metadata": {},
   "outputs": [
    {
     "name": "stdout",
     "output_type": "stream",
     "text": [
      "Certainly! Here’s a concise travel itinerary for a trip to France from May through June, covering key highlights and experiences:\n",
      "\n",
      "**Week 1: Paris**\n",
      "- **Days 1-3:** Explore Paris\n",
      "  - Visit iconic sites: Eiffel Tower, Louvre Museum, Notre-Dame Cathedral.\n",
      "  - Stroll through Montmartre and visit Sacré-Cœur.\n",
      "  - Relax in Luxembourg Gardens.\n",
      "\n",
      "- **Days 4-5:** Day Trips\n",
      "  - Day trip to Versailles: Tour the opulent Palace and gardens.\n",
      "  - Optional day trip to Giverny: See Monet’s gardens.\n",
      "\n",
      "**Week 2: Normandy & Loire Valley**\n",
      "- **Day 6:** Travel to Normandy\n",
      "  - Visit Rouen and its historic cathedral.\n",
      "\n",
      "- **Days 7-8:** D-Day Beaches & Mont Saint-Michel\n",
      "  - Explore the D-Day Landing Beaches.\n",
      "  - Visit Mont Saint-Michel, an island commune.\n",
      "\n",
      "- **Days 9-10:** Loire Valley\n",
      "  - Tour the châteaux: Chambord, Chenonceau, and Amboise.\n",
      "  - Taste local wines and enjoy the countryside.\n",
      "\n",
      "**Week 3: Bordeaux & Dordogne Region**\n",
      "- **Day 11:** Travel to Bordeaux\n",
      "  - Explore the city’s architecture and wine bars.\n",
      "\n",
      "- **Days 12-13:** Bordeaux Vineyards\n",
      "  - Tour Saint-Émilion and Médoc wine regions.\n",
      "\n",
      "- **Days 14-15:** Dordogne\n",
      "  - Visit prehistoric sites like Lascaux Caves.\n",
      "  - Explore medieval towns such as Sarlat.\n",
      "\n",
      "**Week 4: Provence & French Riviera**\n",
      "- **Day 16:** Travel to Avignon\n",
      "  - Visit the Palais des Papes and Pont d’Avignon.\n",
      "\n",
      "- **Days 17-18:** Provence\n",
      "  - Explore the Luberon villages and lavender fields.\n",
      "\n",
      "- **Days 19-21:** Marseille & French Riviera\n",
      "  - Visit Cassis and explore Calanques National Park.\n",
      "  - Head to Nice and enjoy the Côte d'Azur beaches.\n",
      "\n",
      "**Week 5: Alps & Lyon**\n",
      "- **Days 22-23:** Annecy & Chamonix\n",
      "  - Explore the alpine town of Annecy.\n",
      "  - Visit Chamonix and Mont Blanc.\n",
      "\n",
      "- **Days 24-25:** Lyon\n",
      "  - Discover the culinary delights and historic sites.\n",
      "\n",
      "**Week 6: Return to Paris**\n",
      "- **Days 26-28:** Return to Paris\n",
      "  - Relax and revisit favorite spots, or explore new areas like the Marais district.\n",
      "  - Do any last-minute shopping before departure.\n",
      "\n",
      "This itinerary provides a balanced mix of cultural, historic, and scenic experiences, ideal for first-time travelers to France. Adjust based on personal interests and the time available.\n",
      "{'type': 'AssistantAgentState', 'version': '1.0.0', 'llm_context': {'messages': [{'content': 'Can you help me with a travel iternary of France from May to June and keep it concise', 'source': 'user', 'type': 'UserMessage'}, {'content': \"Certainly! Here’s a concise travel itinerary for a trip to France from May through June, covering key highlights and experiences:\\n\\n**Week 1: Paris**\\n- **Days 1-3:** Explore Paris\\n  - Visit iconic sites: Eiffel Tower, Louvre Museum, Notre-Dame Cathedral.\\n  - Stroll through Montmartre and visit Sacré-Cœur.\\n  - Relax in Luxembourg Gardens.\\n\\n- **Days 4-5:** Day Trips\\n  - Day trip to Versailles: Tour the opulent Palace and gardens.\\n  - Optional day trip to Giverny: See Monet’s gardens.\\n\\n**Week 2: Normandy & Loire Valley**\\n- **Day 6:** Travel to Normandy\\n  - Visit Rouen and its historic cathedral.\\n\\n- **Days 7-8:** D-Day Beaches & Mont Saint-Michel\\n  - Explore the D-Day Landing Beaches.\\n  - Visit Mont Saint-Michel, an island commune.\\n\\n- **Days 9-10:** Loire Valley\\n  - Tour the châteaux: Chambord, Chenonceau, and Amboise.\\n  - Taste local wines and enjoy the countryside.\\n\\n**Week 3: Bordeaux & Dordogne Region**\\n- **Day 11:** Travel to Bordeaux\\n  - Explore the city’s architecture and wine bars.\\n\\n- **Days 12-13:** Bordeaux Vineyards\\n  - Tour Saint-Émilion and Médoc wine regions.\\n\\n- **Days 14-15:** Dordogne\\n  - Visit prehistoric sites like Lascaux Caves.\\n  - Explore medieval towns such as Sarlat.\\n\\n**Week 4: Provence & French Riviera**\\n- **Day 16:** Travel to Avignon\\n  - Visit the Palais des Papes and Pont d’Avignon.\\n\\n- **Days 17-18:** Provence\\n  - Explore the Luberon villages and lavender fields.\\n\\n- **Days 19-21:** Marseille & French Riviera\\n  - Visit Cassis and explore Calanques National Park.\\n  - Head to Nice and enjoy the Côte d'Azur beaches.\\n\\n**Week 5: Alps & Lyon**\\n- **Days 22-23:** Annecy & Chamonix\\n  - Explore the alpine town of Annecy.\\n  - Visit Chamonix and Mont Blanc.\\n\\n- **Days 24-25:** Lyon\\n  - Discover the culinary delights and historic sites.\\n\\n**Week 6: Return to Paris**\\n- **Days 26-28:** Return to Paris\\n  - Relax and revisit favorite spots, or explore new areas like the Marais district.\\n  - Do any last-minute shopping before departure.\\n\\nThis itinerary provides a balanced mix of cultural, historic, and scenic experiences, ideal for first-time travelers to France. Adjust based on personal interests and the time available.\", 'thought': None, 'source': 'Assistant', 'type': 'AssistantMessage'}]}}\n",
      "\n",
      "state content :: \n",
      "Certainly! The last discussion was about planning a concise travel itinerary for a trip to France from May to June. It included week-by-week suggestions for visiting various regions in France, such as Paris, Normandy, the Loire Valley, Bordeaux, Provence, the French Riviera, the Alps, and Lyon. Each region featured key highlights and experiences, providing a balanced mix of cultural, historic, and scenic attractions.\n",
      "\n"
     ]
    }
   ],
   "source": [
    "#77\n",
    "#managing state\n",
    "\n",
    "from autogen_agentchat.agents import AssistantAgent\n",
    "from autogen_core import CancellationToken\n",
    "from autogen_agentchat.messages import TextMessage\n",
    "from autogen_ext.models.openai import OpenAIChatCompletionClient\n",
    "from autogen_agentchat.teams import RoundRobinGroupChat\n",
    "from autogen_agentchat.base import TaskResult\n",
    "from autogen_agentchat.ui import Console\n",
    "from autogen_agentchat.conditions import MaxMessageTermination, ExternalTermination\n",
    "from dotenv import load_dotenv\n",
    "import os \n",
    "import asyncio\n",
    "\n",
    "load_dotenv()\n",
    "api_key = os.getenv(\"OPENAI_API_KEY\")\n",
    "cancellation_token= CancellationToken()\n",
    "\n",
    "model_client = OpenAIChatCompletionClient(\n",
    "    model=\"gpt-4o\",\n",
    "    api_key=api_key\n",
    "    )\n",
    "\n",
    "\n",
    "assistant = AssistantAgent(\n",
    "    name=\"Assistant\",\n",
    "    model_client=model_client,\n",
    "    system_message=\"You are helpful assistant. You can answer questions about various topics. \"\n",
    ")\n",
    "\n",
    "response = await assistant.on_messages(\n",
    "    messages=[TextMessage(content=\"Can you help me with a travel iternary of France from May to June and keep it concise\", source='user')],\n",
    "    cancellation_token=cancellation_token,\n",
    ")\n",
    "\n",
    "print(response.chat_message.content)  # Print the content of the last message\n",
    "\n",
    "agent_state = await assistant.save_state()\n",
    "\n",
    "print(agent_state)  # Print the saved state\n",
    "\n",
    "new_assistant_agent = AssistantAgent(\n",
    "    name=\"Assistant_2\",\n",
    "    model_client=model_client,\n",
    "    system_message=\"You are helpful assistant who can answer questions and provide information about various topics. \"\n",
    ")\n",
    "\n",
    "await new_assistant_agent.load_state(agent_state)\n",
    "\n",
    "response = await new_assistant_agent.on_messages(\n",
    "    messages=[TextMessage(content=\"can you tell me what was the last discussion about?\", source='user')],\n",
    "    cancellation_token=cancellation_token,\n",
    ")\n",
    "\n",
    "print(f\"\\n{\"state content :: \"}\\n{response.chat_message.content}\\n\")  # Print the content of the last message"
   ]
  },
  {
   "cell_type": "code",
   "execution_count": 2,
   "id": "18451365",
   "metadata": {},
   "outputs": [
    {
     "name": "stdout",
     "output_type": "stream",
     "text": [
      "---------- TextMessage (user) ----------\n",
      "Write a poem about the sea in 3 lines\n",
      "---------- TextMessage (Writer_1) ----------\n",
      "Endless waves dance and gleam,  \n",
      "Salt-kissed air sings timeless tales,  \n",
      "Deep horizon dreams untold.\n",
      "---------- TextMessage (Writer_2) ----------\n",
      "Ocean whispers call softly,  \n",
      "Majestic tides weave secrets,  \n",
      "Blue cradle of endless hope.\n",
      "Team State saved successfully.\n",
      "{'type': 'TeamState', 'version': '1.0.0', 'agent_states': {'Writer_1': {'type': 'ChatAgentContainerState', 'version': '1.0.0', 'agent_state': {'type': 'AssistantAgentState', 'version': '1.0.0', 'llm_context': {'messages': [{'content': 'Write a poem about the sea in 3 lines', 'source': 'user', 'type': 'UserMessage'}, {'content': 'Endless waves dance and gleam,  \\nSalt-kissed air sings timeless tales,  \\nDeep horizon dreams untold.', 'thought': None, 'source': 'Writer_1', 'type': 'AssistantMessage'}]}}, 'message_buffer': [{'id': '8afcaa7b-01a9-4e59-a183-a2081ee4a3a4', 'source': 'Writer_2', 'models_usage': {'prompt_tokens': 68, 'completion_tokens': 19}, 'metadata': {}, 'created_at': datetime.datetime(2025, 7, 20, 3, 33, 30, 702053, tzinfo=datetime.timezone.utc), 'content': 'Ocean whispers call softly,  \\nMajestic tides weave secrets,  \\nBlue cradle of endless hope.', 'type': 'TextMessage'}]}, 'Writer_2': {'type': 'ChatAgentContainerState', 'version': '1.0.0', 'agent_state': {'type': 'AssistantAgentState', 'version': '1.0.0', 'llm_context': {'messages': [{'content': 'Write a poem about the sea in 3 lines', 'source': 'user', 'type': 'UserMessage'}, {'content': 'Endless waves dance and gleam,  \\nSalt-kissed air sings timeless tales,  \\nDeep horizon dreams untold.', 'source': 'Writer_1', 'type': 'UserMessage'}, {'content': 'Ocean whispers call softly,  \\nMajestic tides weave secrets,  \\nBlue cradle of endless hope.', 'thought': None, 'source': 'Writer_2', 'type': 'AssistantMessage'}]}}, 'message_buffer': []}, 'RoundRobinGroupChatManager': {'type': 'RoundRobinManagerState', 'version': '1.0.0', 'message_thread': [{'id': 'f0a5b7d4-243d-406a-a77b-59abd5e85b4b', 'source': 'user', 'models_usage': None, 'metadata': {}, 'created_at': datetime.datetime(2025, 7, 20, 3, 33, 22, 478790, tzinfo=datetime.timezone.utc), 'content': 'Write a poem about the sea in 3 lines', 'type': 'TextMessage'}, {'id': 'e373f5b5-6ac0-43d9-9aca-cc8b0ea60710', 'source': 'Writer_1', 'models_usage': {'prompt_tokens': 36, 'completion_tokens': 24}, 'metadata': {}, 'created_at': datetime.datetime(2025, 7, 20, 3, 33, 29, 514994, tzinfo=datetime.timezone.utc), 'content': 'Endless waves dance and gleam,  \\nSalt-kissed air sings timeless tales,  \\nDeep horizon dreams untold.', 'type': 'TextMessage'}, {'id': '8afcaa7b-01a9-4e59-a183-a2081ee4a3a4', 'source': 'Writer_2', 'models_usage': {'prompt_tokens': 68, 'completion_tokens': 19}, 'metadata': {}, 'created_at': datetime.datetime(2025, 7, 20, 3, 33, 30, 702053, tzinfo=datetime.timezone.utc), 'content': 'Ocean whispers call softly,  \\nMajestic tides weave secrets,  \\nBlue cradle of endless hope.', 'type': 'TextMessage'}], 'current_turn': 0, 'next_speaker_index': 0}}}\n"
     ]
    }
   ],
   "source": [
    "#managing state in teams\n",
    "#78\n",
    "\n",
    "from autogen_agentchat.agents import AssistantAgent\n",
    "from autogen_core import CancellationToken\n",
    "from autogen_agentchat.messages import TextMessage\n",
    "from autogen_ext.models.openai import OpenAIChatCompletionClient\n",
    "from autogen_agentchat.teams import RoundRobinGroupChat\n",
    "from autogen_agentchat.base import TaskResult\n",
    "from autogen_agentchat.ui import Console\n",
    "from autogen_agentchat.conditions import MaxMessageTermination, ExternalTermination\n",
    "from dotenv import load_dotenv\n",
    "import os \n",
    "import asyncio\n",
    "\n",
    "load_dotenv()\n",
    "api_key = os.getenv(\"OPENAI_API_KEY\")\n",
    "cancellation_token= CancellationToken()\n",
    "\n",
    "model_client = OpenAIChatCompletionClient(\n",
    "    model=\"gpt-4o\",\n",
    "    api_key=api_key \n",
    "    )\n",
    "\n",
    "\n",
    "agent_1 = AssistantAgent(\n",
    "    name=\"Writer_1\",\n",
    "    model_client=model_client,\n",
    "    system_message=\"You are helpful assistant. Give the output in less than 30 words\"\n",
    ")\n",
    "\n",
    "\n",
    "agent_2 = AssistantAgent(\n",
    "    name=\"Writer_2\",\n",
    "    model_client=model_client,\n",
    "    system_message=\"You are Classic Writer. Give the output in less than 30 words\"\n",
    ")\n",
    "\n",
    "terminationCondition = MaxMessageTermination(max_messages=3)\n",
    "\n",
    "agent_team= RoundRobinGroupChat(participants=[agent_1, agent_2], termination_condition=terminationCondition)\n",
    "\n",
    "stream = agent_team.run_stream(task=\"Write a poem about the sea in 3 lines\")\n",
    "\n",
    "await Console(stream) \n",
    "\n",
    "\n",
    "team_state = await agent_team.save_state()\n",
    "print(\"Team State saved successfully.\")\n",
    "print(team_state)  # Print the saved state"
   ]
  },
  {
   "cell_type": "code",
   "execution_count": null,
   "id": "49b8859f",
   "metadata": {},
   "outputs": [],
   "source": []
  },
  {
   "cell_type": "code",
   "execution_count": 4,
   "id": "d3f9ba8c",
   "metadata": {},
   "outputs": [
    {
     "name": "stdout",
     "output_type": "stream",
     "text": [
      "Team State saved successfully.\n",
      "{'type': 'TeamState', 'version': '1.0.0', 'agent_states': {'Writer_1': {'type': 'ChatAgentContainerState', 'version': '1.0.0', 'agent_state': {'type': 'AssistantAgentState', 'version': '1.0.0', 'llm_context': {'messages': [{'content': 'Write a poem about the sea in 3 lines', 'source': 'user', 'type': 'UserMessage'}, {'content': 'Endless waves in dance and play,  \\nWhisper secrets in salty spray,  \\nSky and ocean blend, night meets day.', 'thought': None, 'source': 'Writer_1', 'type': 'AssistantMessage'}]}}, 'message_buffer': [{'source': 'Writer_2', 'models_usage': {'prompt_tokens': 70, 'completion_tokens': 22}, 'metadata': {}, 'created_at': datetime.datetime(2025, 7, 14, 17, 45, 3, 826501, tzinfo=datetime.timezone.utc), 'content': 'Vast blue whispers endless,  \\nSilvery tides kiss the shore,  \\nDreams afloat, forevermore.', 'type': 'TextMessage'}]}, 'Writer_2': {'type': 'ChatAgentContainerState', 'version': '1.0.0', 'agent_state': {'type': 'AssistantAgentState', 'version': '1.0.0', 'llm_context': {'messages': [{'content': 'Write a poem about the sea in 3 lines', 'source': 'user', 'type': 'UserMessage'}, {'content': 'Endless waves in dance and play,  \\nWhisper secrets in salty spray,  \\nSky and ocean blend, night meets day.', 'source': 'Writer_1', 'type': 'UserMessage'}, {'content': 'Vast blue whispers endless,  \\nSilvery tides kiss the shore,  \\nDreams afloat, forevermore.', 'thought': None, 'source': 'Writer_2', 'type': 'AssistantMessage'}]}}, 'message_buffer': []}, 'RoundRobinGroupChatManager': {'type': 'RoundRobinManagerState', 'version': '1.0.0', 'message_thread': [{'source': 'user', 'models_usage': None, 'metadata': {}, 'created_at': datetime.datetime(2025, 7, 14, 17, 44, 56, 361895, tzinfo=datetime.timezone.utc), 'content': 'Write a poem about the sea in 3 lines', 'type': 'TextMessage'}, {'source': 'Writer_1', 'models_usage': {'prompt_tokens': 36, 'completion_tokens': 26}, 'metadata': {}, 'created_at': datetime.datetime(2025, 7, 14, 17, 45, 1, 641429, tzinfo=datetime.timezone.utc), 'content': 'Endless waves in dance and play,  \\nWhisper secrets in salty spray,  \\nSky and ocean blend, night meets day.', 'type': 'TextMessage'}, {'source': 'Writer_2', 'models_usage': {'prompt_tokens': 70, 'completion_tokens': 22}, 'metadata': {}, 'created_at': datetime.datetime(2025, 7, 14, 17, 45, 3, 826501, tzinfo=datetime.timezone.utc), 'content': 'Vast blue whispers endless,  \\nSilvery tides kiss the shore,  \\nDreams afloat, forevermore.', 'type': 'TextMessage'}], 'current_turn': 0, 'next_speaker_index': 0}}}\n"
     ]
    }
   ],
   "source": [
    "\n",
    "\n",
    "team_state = await agent_team.save_state()\n",
    "print(\"Team State saved successfully.\")\n",
    "print(team_state)  # Print the saved state"
   ]
  },
  {
   "cell_type": "code",
   "execution_count": 5,
   "id": "b58cd1a0",
   "metadata": {},
   "outputs": [
    {
     "name": "stdout",
     "output_type": "stream",
     "text": [
      "---------- TextMessage (user) ----------\n",
      "What was the last line of poem you wrote?\n"
     ]
    },
    {
     "name": "stdout",
     "output_type": "stream",
     "text": [
      "---------- TextMessage (Writer_1) ----------\n",
      "Dreams afloat, forevermore.\n",
      "---------- TextMessage (Writer_2) ----------\n",
      "Dreams afloat, forevermore.\n"
     ]
    },
    {
     "data": {
      "text/plain": [
       "TaskResult(messages=[TextMessage(source='user', models_usage=None, metadata={}, created_at=datetime.datetime(2025, 7, 14, 17, 45, 23, 317453, tzinfo=datetime.timezone.utc), content='What was the last line of poem you wrote?', type='TextMessage'), TextMessage(source='Writer_1', models_usage=RequestUsage(prompt_tokens=111, completion_tokens=7), metadata={}, created_at=datetime.datetime(2025, 7, 14, 17, 45, 24, 836236, tzinfo=datetime.timezone.utc), content='Dreams afloat, forevermore.', type='TextMessage'), TextMessage(source='Writer_2', models_usage=RequestUsage(prompt_tokens=126, completion_tokens=7), metadata={}, created_at=datetime.datetime(2025, 7, 14, 17, 45, 26, 289179, tzinfo=datetime.timezone.utc), content='Dreams afloat, forevermore.', type='TextMessage')], stop_reason='Maximum number of messages 3 reached, current message count: 3')"
      ]
     },
     "execution_count": 5,
     "metadata": {},
     "output_type": "execute_result"
    }
   ],
   "source": [
    "await agent_team.load_state(team_state) #helps in remembering the last conversation\n",
    "stream = agent_team.run_stream(task=\"What was the last line of poem you wrote?\")\n",
    "await Console(stream)  # Print the content of the last message\n",
    "\n"
   ]
  },
  {
   "cell_type": "code",
   "execution_count": 6,
   "id": "a59f5d35",
   "metadata": {},
   "outputs": [
    {
     "data": {
      "text/plain": [
       "{'type': 'TeamState',\n",
       " 'version': '1.0.0',\n",
       " 'agent_states': {'Writer_1': {'type': 'ChatAgentContainerState',\n",
       "   'version': '1.0.0',\n",
       "   'agent_state': {'type': 'AssistantAgentState',\n",
       "    'version': '1.0.0',\n",
       "    'llm_context': {'messages': [{'content': 'Write a poem about the sea in 3 lines',\n",
       "       'source': 'user',\n",
       "       'type': 'UserMessage'},\n",
       "      {'content': 'Endless waves in dance and play,  \\nWhisper secrets in salty spray,  \\nSky and ocean blend, night meets day.',\n",
       "       'thought': None,\n",
       "       'source': 'Writer_1',\n",
       "       'type': 'AssistantMessage'}]}},\n",
       "   'message_buffer': [{'source': 'Writer_2',\n",
       "     'models_usage': {'prompt_tokens': 70, 'completion_tokens': 22},\n",
       "     'metadata': {},\n",
       "     'created_at': datetime.datetime(2025, 7, 14, 17, 45, 3, 826501, tzinfo=datetime.timezone.utc),\n",
       "     'content': 'Vast blue whispers endless,  \\nSilvery tides kiss the shore,  \\nDreams afloat, forevermore.',\n",
       "     'type': 'TextMessage'}]},\n",
       "  'Writer_2': {'type': 'ChatAgentContainerState',\n",
       "   'version': '1.0.0',\n",
       "   'agent_state': {'type': 'AssistantAgentState',\n",
       "    'version': '1.0.0',\n",
       "    'llm_context': {'messages': [{'content': 'Write a poem about the sea in 3 lines',\n",
       "       'source': 'user',\n",
       "       'type': 'UserMessage'},\n",
       "      {'content': 'Endless waves in dance and play,  \\nWhisper secrets in salty spray,  \\nSky and ocean blend, night meets day.',\n",
       "       'source': 'Writer_1',\n",
       "       'type': 'UserMessage'},\n",
       "      {'content': 'Vast blue whispers endless,  \\nSilvery tides kiss the shore,  \\nDreams afloat, forevermore.',\n",
       "       'thought': None,\n",
       "       'source': 'Writer_2',\n",
       "       'type': 'AssistantMessage'}]}},\n",
       "   'message_buffer': []},\n",
       "  'RoundRobinGroupChatManager': {'type': 'RoundRobinManagerState',\n",
       "   'version': '1.0.0',\n",
       "   'message_thread': [{'source': 'user',\n",
       "     'models_usage': None,\n",
       "     'metadata': {},\n",
       "     'created_at': datetime.datetime(2025, 7, 14, 17, 44, 56, 361895, tzinfo=datetime.timezone.utc),\n",
       "     'content': 'Write a poem about the sea in 3 lines',\n",
       "     'type': 'TextMessage'},\n",
       "    {'source': 'Writer_1',\n",
       "     'models_usage': {'prompt_tokens': 36, 'completion_tokens': 26},\n",
       "     'metadata': {},\n",
       "     'created_at': datetime.datetime(2025, 7, 14, 17, 45, 1, 641429, tzinfo=datetime.timezone.utc),\n",
       "     'content': 'Endless waves in dance and play,  \\nWhisper secrets in salty spray,  \\nSky and ocean blend, night meets day.',\n",
       "     'type': 'TextMessage'},\n",
       "    {'source': 'Writer_2',\n",
       "     'models_usage': {'prompt_tokens': 70, 'completion_tokens': 22},\n",
       "     'metadata': {},\n",
       "     'created_at': datetime.datetime(2025, 7, 14, 17, 45, 3, 826501, tzinfo=datetime.timezone.utc),\n",
       "     'content': 'Vast blue whispers endless,  \\nSilvery tides kiss the shore,  \\nDreams afloat, forevermore.',\n",
       "     'type': 'TextMessage'}],\n",
       "   'current_turn': 0,\n",
       "   'next_speaker_index': 0}}}"
      ]
     },
     "execution_count": 6,
     "metadata": {},
     "output_type": "execute_result"
    }
   ],
   "source": [
    "team_state #dict type can be persisted in a database or file system"
   ]
  },
  {
   "cell_type": "code",
   "execution_count": 16,
   "id": "fbc4fae2",
   "metadata": {},
   "outputs": [],
   "source": [
    "import json\n",
    "\n",
    "with open('team_state.json', 'w') as f:\n",
    "   team_state_file= json.dump(team_state, f, default=str)  # Use default=str to handle non-serializable types"
   ]
  },
  {
   "cell_type": "code",
   "execution_count": 1,
   "id": "4c6b3e15",
   "metadata": {},
   "outputs": [
    {
     "ename": "NameError",
     "evalue": "name 'team_state_file' is not defined",
     "output_type": "error",
     "traceback": [
      "\u001b[31m---------------------------------------------------------------------------\u001b[39m",
      "\u001b[31mNameError\u001b[39m                                 Traceback (most recent call last)",
      "\u001b[36mCell\u001b[39m\u001b[36m \u001b[39m\u001b[32mIn[1]\u001b[39m\u001b[32m, line 44\u001b[39m\n\u001b[32m     42\u001b[39m new_agent_team= RoundRobinGroupChat(participants=[agent_1, agent_2], termination_condition=terminationCondition)\n\u001b[32m     43\u001b[39m \u001b[38;5;66;03m#new Agent team getts state\u001b[39;00m\n\u001b[32m---> \u001b[39m\u001b[32m44\u001b[39m new_agent_team.load_state(\u001b[43mteam_state_file\u001b[49m)  \u001b[38;5;66;03m# Load the state from the file\u001b[39;00m\n\u001b[32m     45\u001b[39m stream = new_agent_team.run_stream(task=\u001b[33m\"\u001b[39m\u001b[33mWhat was the line you wrote last?\u001b[39m\u001b[33m\"\u001b[39m)\n\u001b[32m     46\u001b[39m \u001b[38;5;28;01mawait\u001b[39;00m Console(stream)  \u001b[38;5;66;03m# Print the content of the last message\u001b[39;00m\n",
      "\u001b[31mNameError\u001b[39m: name 'team_state_file' is not defined"
     ]
    }
   ],
   "source": [
    "#saving and loading state in teams from file - File stored in above\n",
    "\n",
    "#managing state in teams\n",
    "#79\n",
    "\n",
    "from autogen_agentchat.agents import AssistantAgent\n",
    "from autogen_core import CancellationToken\n",
    "from autogen_agentchat.messages import TextMessage\n",
    "from autogen_ext.models.openai import OpenAIChatCompletionClient\n",
    "from autogen_agentchat.teams import RoundRobinGroupChat\n",
    "from autogen_agentchat.base import TaskResult\n",
    "from autogen_agentchat.ui import Console\n",
    "from autogen_agentchat.conditions import MaxMessageTermination, ExternalTermination\n",
    "from dotenv import load_dotenv\n",
    "import os \n",
    "import asyncio\n",
    "\n",
    "load_dotenv()\n",
    "api_key = os.getenv(\"OPENAI_API_KEY\")\n",
    " \n",
    "model_client = OpenAIChatCompletionClient(\n",
    "    model=\"gpt-4o\",\n",
    "    api_key=api_key \n",
    "    )\n",
    "\n",
    "\n",
    "agent_1 = AssistantAgent(\n",
    "    name=\"Writer_1\",\n",
    "    model_client=model_client,\n",
    "    system_message=\"You are helpful assistant. Give the output in less than 30 words\"\n",
    ")\n",
    "\n",
    "\n",
    "agent_2 = AssistantAgent(\n",
    "    name=\"Writer_2\",\n",
    "    model_client=model_client,\n",
    "    system_message=\"You are Classic Writer. Give the output in less than 30 words\"\n",
    ")\n",
    "\n",
    "terminationCondition = MaxMessageTermination(max_messages=3)\n",
    "\n",
    "new_agent_team= RoundRobinGroupChat(participants=[agent_1, agent_2], termination_condition=terminationCondition)\n",
    "#new Agent team getts state\n",
    "new_agent_team.load_state(team_state_file)  # Load the state from the file\n",
    "stream = new_agent_team.run_stream(task=\"What was the line you wrote last?\")\n",
    "await Console(stream)  # Print the content of the last message\n",
    " "
   ]
  },
  {
   "cell_type": "code",
   "execution_count": 28,
   "id": "60a9d383",
   "metadata": {},
   "outputs": [
    {
     "ename": "RuntimeError",
     "evalue": "asyncio.run() cannot be called from a running event loop",
     "output_type": "error",
     "traceback": [
      "\u001b[31m---------------------------------------------------------------------------\u001b[39m",
      "\u001b[31mRuntimeError\u001b[39m                              Traceback (most recent call last)",
      "\u001b[36mCell\u001b[39m\u001b[36m \u001b[39m\u001b[32mIn[28]\u001b[39m\u001b[32m, line 55\u001b[39m\n\u001b[32m     52\u001b[39m     \u001b[38;5;28;01mawait\u001b[39;00m Console(stream)\n\u001b[32m     54\u001b[39m \u001b[38;5;28;01mif\u001b[39;00m \u001b[34m__name__\u001b[39m == \u001b[33m\"\u001b[39m\u001b[33m__main__\u001b[39m\u001b[33m\"\u001b[39m:\n\u001b[32m---> \u001b[39m\u001b[32m55\u001b[39m     \u001b[43masyncio\u001b[49m\u001b[43m.\u001b[49m\u001b[43mrun\u001b[49m\u001b[43m(\u001b[49m\u001b[43mmain\u001b[49m\u001b[43m(\u001b[49m\u001b[43m)\u001b[49m\u001b[43m)\u001b[49m\n",
      "\u001b[36mFile \u001b[39m\u001b[32me:\\DE\\New folder\\Udemy\\Autogen\\venv\\Lib\\asyncio\\runners.py:190\u001b[39m, in \u001b[36mrun\u001b[39m\u001b[34m(main, debug, loop_factory)\u001b[39m\n\u001b[32m    161\u001b[39m \u001b[38;5;250m\u001b[39m\u001b[33;03m\"\"\"Execute the coroutine and return the result.\u001b[39;00m\n\u001b[32m    162\u001b[39m \n\u001b[32m    163\u001b[39m \u001b[33;03mThis function runs the passed coroutine, taking care of\u001b[39;00m\n\u001b[32m   (...)\u001b[39m\u001b[32m    186\u001b[39m \u001b[33;03m    asyncio.run(main())\u001b[39;00m\n\u001b[32m    187\u001b[39m \u001b[33;03m\"\"\"\u001b[39;00m\n\u001b[32m    188\u001b[39m \u001b[38;5;28;01mif\u001b[39;00m events._get_running_loop() \u001b[38;5;129;01mis\u001b[39;00m \u001b[38;5;129;01mnot\u001b[39;00m \u001b[38;5;28;01mNone\u001b[39;00m:\n\u001b[32m    189\u001b[39m     \u001b[38;5;66;03m# fail fast with short traceback\u001b[39;00m\n\u001b[32m--> \u001b[39m\u001b[32m190\u001b[39m     \u001b[38;5;28;01mraise\u001b[39;00m \u001b[38;5;167;01mRuntimeError\u001b[39;00m(\n\u001b[32m    191\u001b[39m         \u001b[33m\"\u001b[39m\u001b[33masyncio.run() cannot be called from a running event loop\u001b[39m\u001b[33m\"\u001b[39m)\n\u001b[32m    193\u001b[39m \u001b[38;5;28;01mwith\u001b[39;00m Runner(debug=debug, loop_factory=loop_factory) \u001b[38;5;28;01mas\u001b[39;00m runner:\n\u001b[32m    194\u001b[39m     \u001b[38;5;28;01mreturn\u001b[39;00m runner.run(main)\n",
      "\u001b[31mRuntimeError\u001b[39m: asyncio.run() cannot be called from a running event loop"
     ]
    }
   ],
   "source": [
    "#Human in the loop\n",
    "#feedback during a run \n",
    "\n",
    "\n",
    "from autogen_agentchat.agents import AssistantAgent, UserProxyAgent\n",
    "from autogen_core import CancellationToken\n",
    "from autogen_agentchat.messages import TextMessage\n",
    "from autogen_ext.models.openai import OpenAIChatCompletionClient\n",
    "from autogen_agentchat.teams import RoundRobinGroupChat\n",
    "from autogen_agentchat.base import TaskResult\n",
    "from autogen_agentchat.ui import Console\n",
    "from autogen_agentchat.conditions import MaxMessageTermination, ExternalTermination, TextMentionTermination\n",
    "from dotenv import load_dotenv\n",
    "import os \n",
    "import asyncio\n",
    "\n",
    "load_dotenv()\n",
    "api_key = os.getenv(\"OPENAI_API_KEY\")\n",
    " \n",
    "model_client = OpenAIChatCompletionClient(\n",
    "    model=\"gpt-4o\",\n",
    "    api_key=api_key \n",
    "    )\n",
    "\n",
    "\n",
    "myPA_agent = AssistantAgent(\n",
    "    name=\"custom_PA\",\n",
    "    model_client=model_client,\n",
    "    system_message=\"You are helpful assistant. You can answer questions about various topics. \"\n",
    ")\n",
    "\n",
    "user_proxy_agent = UserProxyAgent(\n",
    "    name='UserProxy',\n",
    "    description=\"You are a user proxy agent that represents the user in the conversation. \",\n",
    "    input_func= input\n",
    ")\n",
    "\n",
    "text_terminationCondition = TextMentionTermination(['APPROVED', 'DONE', 'YES','OK','GOTCHA'])\n",
    "# #text_terminationCondition = TextMentionTermination(\n",
    "#     ['APPROVED', 'DONE', 'YES', 'OK', 'GOTCHA'],\n",
    "#     case_insensitive=True\n",
    "# )\n",
    "\n",
    "team = RoundRobinGroupChat(\n",
    "    participants=[myPA_agent, user_proxy_agent],\n",
    "    termination_condition=text_terminationCondition  # Set the termination condition\n",
    ")\n",
    "\n",
    "stream = team.run_stream(task=\"Can you help with a short plan for Agentic AI interview preparation?\")\n",
    "\n",
    "async def main():\n",
    "    await Console(stream)\n",
    "\n",
    "if __name__ == \"__main__\":\n",
    "    asyncio.run(main())"
   ]
  },
  {
   "cell_type": "code",
   "execution_count": null,
   "id": "75342a2c",
   "metadata": {},
   "outputs": [],
   "source": [
    "#Autogen studio\n",
    "#Create env\n",
    "#"
   ]
  }
 ],
 "metadata": {
  "kernelspec": {
   "display_name": "venv",
   "language": "python",
   "name": "python3"
  },
  "language_info": {
   "codemirror_mode": {
    "name": "ipython",
    "version": 3
   },
   "file_extension": ".py",
   "mimetype": "text/x-python",
   "name": "python",
   "nbconvert_exporter": "python",
   "pygments_lexer": "ipython3",
   "version": "3.12.0"
  }
 },
 "nbformat": 4,
 "nbformat_minor": 5
}
